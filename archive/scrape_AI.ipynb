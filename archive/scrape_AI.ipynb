{
 "cells": [
  {
   "cell_type": "raw",
   "metadata": {},
   "source": [
    "---\n",
    "title: \"Untitled\"\n",
    "format: html\n",
    "---"
   ]
  },
  {
   "cell_type": "code",
   "execution_count": 44,
   "metadata": {},
   "outputs": [],
   "source": [
    "from splinter import Browser\n",
    "from bs4 import BeautifulSoup as soup\n",
    "from numpy import random\n",
    "from time import sleep\n",
    "import os\n"
   ]
  },
  {
   "cell_type": "code",
   "execution_count": 70,
   "metadata": {},
   "outputs": [],
   "source": [
    "# Set up Splinter\n",
    "browser = Browser('chrome')"
   ]
  },
  {
   "cell_type": "code",
   "execution_count": 4,
   "metadata": {},
   "outputs": [],
   "source": [
    "# Visit the AI-generated essay site\n",
    "url = 'https://www.the-good-ai.com/examples'\n",
    "browser.visit(url)"
   ]
  },
  {
   "cell_type": "code",
   "execution_count": 5,
   "metadata": {},
   "outputs": [],
   "source": [
    "# Parse the website\n",
    "html = browser.html\n",
    "html_soup = soup(html, 'html.parser')"
   ]
  },
  {
   "cell_type": "code",
   "execution_count": 6,
   "metadata": {},
   "outputs": [
    {
     "data": {
      "text/plain": [
       "[]"
      ]
     },
     "execution_count": 6,
     "metadata": {},
     "output_type": "execute_result"
    }
   ],
   "source": [
    "html_soup.body.find('div', class_ = 'paddedContainer')\n",
    "html_soup.body.find_all('a')\n",
    "\n"
   ]
  },
  {
   "cell_type": "code",
   "execution_count": 7,
   "metadata": {},
   "outputs": [
    {
     "data": {
      "text/plain": [
       "[]"
      ]
     },
     "execution_count": 7,
     "metadata": {},
     "output_type": "execute_result"
    }
   ],
   "source": [
    "html_soup.find_all(\"a\", class_ = \"href\")"
   ]
  },
  {
   "cell_type": "code",
   "execution_count": 8,
   "metadata": {},
   "outputs": [],
   "source": [
    "genre = 'memoir'"
   ]
  },
  {
   "cell_type": "code",
   "execution_count": 9,
   "metadata": {},
   "outputs": [
    {
     "data": {
      "text/plain": [
       "'https://www.the-good-ai.com/examples/?category=memoir'"
      ]
     },
     "execution_count": 9,
     "metadata": {},
     "output_type": "execute_result"
    }
   ],
   "source": [
    "base_url = 'https://www.the-good-ai.com'\n",
    "query = '/examples/?category='\n",
    "\n",
    "url = f'{base_url}{query}{genre}'\n",
    "url"
   ]
  },
  {
   "cell_type": "code",
   "execution_count": 10,
   "metadata": {},
   "outputs": [],
   "source": [
    "#visit browser\n",
    "browser.visit(url)\n",
    "\n"
   ]
  },
  {
   "cell_type": "code",
   "execution_count": 11,
   "metadata": {},
   "outputs": [],
   "source": [
    "# Parse the website\n",
    "html = browser.html\n",
    "html_soup = soup(html, 'html.parser')\n"
   ]
  },
  {
   "cell_type": "code",
   "execution_count": 12,
   "metadata": {},
   "outputs": [
    {
     "data": {
      "text/plain": [
       "[]"
      ]
     },
     "execution_count": 12,
     "metadata": {},
     "output_type": "execute_result"
    }
   ],
   "source": [
    "#find relevant link\n",
    "titles = html_soup.find_all('h5', class_ = \"fancy item\")\n",
    "links = html_soup.find_all('a')\n",
    "html_soup.find_all('a')\n",
    "\n"
   ]
  },
  {
   "cell_type": "code",
   "execution_count": 13,
   "metadata": {},
   "outputs": [],
   "source": [
    "links = html_soup.find_all('a')\n",
    "\n",
    "post_link = []\n",
    "for link in links:\n",
    "    post_link.append(link['href'])\n",
    "\n"
   ]
  },
  {
   "cell_type": "code",
   "execution_count": null,
   "metadata": {},
   "outputs": [],
   "source": [
    "#find relevant link\n",
    "html_soup.find"
   ]
  },
  {
   "cell_type": "code",
   "execution_count": 3,
   "metadata": {},
   "outputs": [
    {
     "name": "stdout",
     "output_type": "stream",
     "text": [
      "error occurred with https://www.the-good-ai.com/post/how-do-muslims-celebrate-ramadan Message: disconnected: not connected to DevTools\n",
      "  (failed to check if window was closed: disconnected: not connected to DevTools)\n",
      "  (Session info: chrome=113.0.5672.92)\n",
      "Stacktrace:\n",
      "0   chromedriver                        0x000000010560dae8 chromedriver + 4958952\n",
      "1   chromedriver                        0x00000001056057b3 chromedriver + 4925363\n",
      "2   chromedriver                        0x00000001051c71d6 chromedriver + 475606\n",
      "3   chromedriver                        0x00000001051ae324 chromedriver + 373540\n",
      "4   chromedriver                        0x00000001051ae093 chromedriver + 372883\n",
      "5   chromedriver                        0x00000001051c8d62 chromedriver + 482658\n",
      "6   chromedriver                        0x000000010524b97e chromedriver + 1018238\n",
      "7   chromedriver                        0x00000001052309e3 chromedriver + 907747\n",
      "8   chromedriver                        0x00000001051faaef chromedriver + 686831\n",
      "9   chromedriver                        0x00000001051fc00e chromedriver + 692238\n",
      "10  chromedriver                        0x00000001055c99ad chromedriver + 4680109\n",
      "11  chromedriver                        0x00000001055cec12 chromedriver + 4701202\n",
      "12  chromedriver                        0x00000001055d579f chromedriver + 4728735\n",
      "13  chromedriver                        0x00000001055cfb7a chromedriver + 4705146\n",
      "14  chromedriver                        0x00000001055a227e chromedriver + 4518526\n",
      "15  chromedriver                        0x00000001055ef908 chromedriver + 4835592\n",
      "16  chromedriver                        0x00000001055efa87 chromedriver + 4835975\n",
      "17  chromedriver                        0x00000001055ff00f chromedriver + 4898831\n",
      "18  libsystem_pthread.dylib             0x00007ff8172984e1 _pthread_start + 125\n",
      "19  libsystem_pthread.dylib             0x00007ff817293f6b thread_start + 15\n",
      "\n",
      "error occurred with https://www.the-good-ai.com/post/what-is the-difference-between-catholicism-and-eastern Message: disconnected: not connected to DevTools\n",
      "  (failed to check if window was closed: disconnected: not connected to DevTools)\n",
      "  (Session info: chrome=113.0.5672.92)\n",
      "Stacktrace:\n",
      "0   chromedriver                        0x000000010560dae8 chromedriver + 4958952\n",
      "1   chromedriver                        0x00000001056057b3 chromedriver + 4925363\n",
      "2   chromedriver                        0x00000001051c71d6 chromedriver + 475606\n",
      "3   chromedriver                        0x00000001051ae324 chromedriver + 373540\n",
      "4   chromedriver                        0x00000001051ae093 chromedriver + 372883\n",
      "5   chromedriver                        0x00000001051c8d62 chromedriver + 482658\n",
      "6   chromedriver                        0x000000010524b97e chromedriver + 1018238\n",
      "7   chromedriver                        0x00000001052309e3 chromedriver + 907747\n",
      "8   chromedriver                        0x00000001051faaef chromedriver + 686831\n",
      "9   chromedriver                        0x00000001051fc00e chromedriver + 692238\n",
      "10  chromedriver                        0x00000001055c99ad chromedriver + 4680109\n",
      "11  chromedriver                        0x00000001055cec12 chromedriver + 4701202\n",
      "12  chromedriver                        0x00000001055d579f chromedriver + 4728735\n",
      "13  chromedriver                        0x00000001055cfb7a chromedriver + 4705146\n",
      "14  chromedriver                        0x00000001055a227e chromedriver + 4518526\n",
      "15  chromedriver                        0x00000001055ef908 chromedriver + 4835592\n",
      "16  chromedriver                        0x00000001055efa87 chromedriver + 4835975\n",
      "17  chromedriver                        0x00000001055ff00f chromedriver + 4898831\n",
      "18  libsystem_pthread.dylib             0x00007ff8172984e1 _pthread_start + 125\n",
      "19  libsystem_pthread.dylib             0x00007ff817293f6b thread_start + 15\n",
      "\n",
      "error occurred with https://www.the-good-ai.com/post/privacy-policy Message: disconnected: not connected to DevTools\n",
      "  (failed to check if window was closed: disconnected: not connected to DevTools)\n",
      "  (Session info: chrome=113.0.5672.92)\n",
      "Stacktrace:\n",
      "0   chromedriver                        0x000000010560dae8 chromedriver + 4958952\n",
      "1   chromedriver                        0x00000001056057b3 chromedriver + 4925363\n",
      "2   chromedriver                        0x00000001051c71d6 chromedriver + 475606\n",
      "3   chromedriver                        0x00000001051ae324 chromedriver + 373540\n",
      "4   chromedriver                        0x00000001051ae093 chromedriver + 372883\n",
      "5   chromedriver                        0x00000001051c8d62 chromedriver + 482658\n",
      "6   chromedriver                        0x000000010524b97e chromedriver + 1018238\n",
      "7   chromedriver                        0x00000001052309e3 chromedriver + 907747\n",
      "8   chromedriver                        0x00000001051faaef chromedriver + 686831\n",
      "9   chromedriver                        0x00000001051fc00e chromedriver + 692238\n",
      "10  chromedriver                        0x00000001055c99ad chromedriver + 4680109\n",
      "11  chromedriver                        0x00000001055cec12 chromedriver + 4701202\n",
      "12  chromedriver                        0x00000001055d579f chromedriver + 4728735\n",
      "13  chromedriver                        0x00000001055cfb7a chromedriver + 4705146\n",
      "14  chromedriver                        0x00000001055a227e chromedriver + 4518526\n",
      "15  chromedriver                        0x00000001055ef908 chromedriver + 4835592\n",
      "16  chromedriver                        0x00000001055efa87 chromedriver + 4835975\n",
      "17  chromedriver                        0x00000001055ff00f chromedriver + 4898831\n",
      "18  libsystem_pthread.dylib             0x00007ff8172984e1 _pthread_start + 125\n",
      "19  libsystem_pthread.dylib             0x00007ff817293f6b thread_start + 15\n",
      "\n",
      "error occurred with https://www.the-good-ai.com/post/terms-of-service Message: disconnected: not connected to DevTools\n",
      "  (failed to check if window was closed: disconnected: not connected to DevTools)\n",
      "  (Session info: chrome=113.0.5672.92)\n",
      "Stacktrace:\n",
      "0   chromedriver                        0x000000010560dae8 chromedriver + 4958952\n",
      "1   chromedriver                        0x00000001056057b3 chromedriver + 4925363\n",
      "2   chromedriver                        0x00000001051c71d6 chromedriver + 475606\n",
      "3   chromedriver                        0x00000001051ae324 chromedriver + 373540\n",
      "4   chromedriver                        0x00000001051ae093 chromedriver + 372883\n",
      "5   chromedriver                        0x00000001051c8d62 chromedriver + 482658\n",
      "6   chromedriver                        0x000000010524b97e chromedriver + 1018238\n",
      "7   chromedriver                        0x00000001052309e3 chromedriver + 907747\n",
      "8   chromedriver                        0x00000001051faaef chromedriver + 686831\n",
      "9   chromedriver                        0x00000001051fc00e chromedriver + 692238\n",
      "10  chromedriver                        0x00000001055c99ad chromedriver + 4680109\n",
      "11  chromedriver                        0x00000001055cec12 chromedriver + 4701202\n",
      "12  chromedriver                        0x00000001055d579f chromedriver + 4728735\n",
      "13  chromedriver                        0x00000001055cfb7a chromedriver + 4705146\n",
      "14  chromedriver                        0x00000001055a227e chromedriver + 4518526\n",
      "15  chromedriver                        0x00000001055ef908 chromedriver + 4835592\n",
      "16  chromedriver                        0x00000001055efa87 chromedriver + 4835975\n",
      "17  chromedriver                        0x00000001055ff00f chromedriver + 4898831\n",
      "18  libsystem_pthread.dylib             0x00007ff8172984e1 _pthread_start + 125\n",
      "19  libsystem_pthread.dylib             0x00007ff817293f6b thread_start + 15\n",
      "\n"
     ]
    }
   ],
   "source": [
    "# FINAL CODE\n",
    "\n",
    "#import dependencies\n",
    "from splinter import Browser\n",
    "from bs4 import BeautifulSoup as soup\n",
    "from numpy import random\n",
    "from time import sleep\n",
    "import os\n",
    "\n",
    "# Set up Splinter's browser\n",
    "browser = Browser('chrome')\n",
    "\n",
    "\n",
    "#create variables to save with so don't overwrite previously generated text\n",
    "total_counter =  len(os.listdir('../rawData/aiEssays/')) +2 \n",
    "genre_count = 8\n",
    "llm = 'the-good-ai'\n",
    "\n",
    "#develop base_url\n",
    "base_url = 'https://www.the-good-ai.com'\n",
    "query1 = '/examples/'\n",
    "query2 = '?category='\n",
    "\n",
    "#loop through each genre type\n",
    "genre = ['memoir', 'math', 'physics', 'philosophy', 'engineering', 'finance', 'economics', 'chemistry', 'biology', 'music', 'technology', 'comparative', 'history', 'literature', 'art', 'geography', 'religion']\n",
    "\n",
    "for word in genre:\n",
    "    \n",
    "    genre_count = genre_count + 1\n",
    "    track_genre = word\n",
    "\n",
    "    #specify the url for each genre\n",
    "    url_genre = f'{base_url}{query1}{query2}{word}'\n",
    "\n",
    "    #pause the analysis for about 20 seconds\n",
    "    wait = random.normal(3, .5, 1)[0]\n",
    "    sleep(wait)\n",
    "\n",
    "    #visit the url for each genre\n",
    "    browser.visit(url_genre)\n",
    "    sleep(3)\n",
    "\n",
    "    # save and Parse the html for each genre\n",
    "    html = browser.html\n",
    "    html_soup = soup(html, 'html.parser')   \n",
    "    \n",
    "    #get information about essays for a given genre\n",
    "    links = html_soup.find_all('a')\n",
    "\n",
    "    #save and extract all links for a given genre page\n",
    "    post_link = []\n",
    "    for link in links:\n",
    "        post_link.append(link['href'])\n",
    "\n",
    "    #filter out links to just include links to essays\n",
    "    search_term = '/post/'\n",
    "    to_click = []\n",
    "    for link in post_link:\n",
    "        if search_term in link:\n",
    "            to_click.append(f'{base_url}{link}')\n",
    "    \n",
    "    #go to each link (essay) and extract relevant information\n",
    "    for page in to_click:\n",
    "        #pause the analysis for appx 15 sec\n",
    "        wait = random.normal(3, .5, 1)[0]\n",
    "        sleep(wait)\n",
    "\n",
    "        #visit the page\n",
    "        try: \n",
    "            browser.visit(page)\n",
    "            sleep(3)\n",
    "            #save and parse the html for given essay\n",
    "            html = browser.html\n",
    "            html_soup = soup(html, 'html.parser') \n",
    "            \n",
    "            #extract the title\n",
    "            title = html_soup.find('span', class_ = 'fancy highlighted').text\n",
    "\n",
    "            #create list w/ title\n",
    "            essay_text = []\n",
    "            essay_text.append(f'{title}\\n')\n",
    "\n",
    "            #extract the paragraphs and add to list\n",
    "            paragraphs = html_soup.find_all('p')\n",
    "            for paragraph in paragraphs:\n",
    "                essay_text.append(f'{paragraph.text}')\n",
    "\n",
    "            #combine title\n",
    "            final_essay = ''.join(essay_text)\n",
    "            final_essay\n",
    "\n",
    "            #increase counter\n",
    "            total_counter = total_counter + 1\n",
    "\n",
    "            #save the full document as text\n",
    "            save_path = f'../rawData/aiEssays/eid{genre_count}-{llm}_{total_counter}.txt'\n",
    "            with open(save_path, 'w') as f:\n",
    "                f.write(final_essay)\n",
    "                \n",
    "        except Exception as e:\n",
    "            print(f'error occurred with {page} {e}')\n",
    "\n",
    "\n",
    "        \n",
    "browser.quit()\n",
    "\n",
    "\n"
   ]
  },
  {
   "cell_type": "code",
   "execution_count": 66,
   "metadata": {},
   "outputs": [
    {
     "data": {
      "text/plain": [
       "['https://www.the-good-ai.com/post/similarities-in-dietary-restrictions-between-jews-and-muslims',\n",
       " 'https://www.the-good-ai.com/post/how-does-the-holy-trinity-in-christianity-diverge-from-the-jewish',\n",
       " 'https://www.the-good-ai.com/post/how-did-ancient-greek-philosophy-influence',\n",
       " 'https://www.the-good-ai.com/post/what-were-the-religious-views',\n",
       " 'https://www.the-good-ai.com/post/how-did-catholic-social-teaching-influence',\n",
       " 'https://www.the-good-ai.com/post/what-are-the-four-noble-truths-in-buddhism',\n",
       " 'https://www.the-good-ai.com/post/how-has-evangelical-christianity-impacted-american-politics',\n",
       " 'https://www.the-good-ai.com/post/how-did-the-enlightenment-alter',\n",
       " 'https://www.the-good-ai.com/post/how-do-muslims-celebrate-ramadan',\n",
       " 'https://www.the-good-ai.com/post/what-is the-difference-between-catholicism-and-eastern',\n",
       " 'https://www.the-good-ai.com/post/privacy-policy',\n",
       " 'https://www.the-good-ai.com/post/terms-of-service']"
      ]
     },
     "execution_count": 66,
     "metadata": {},
     "output_type": "execute_result"
    }
   ],
   "source": [
    "to_click"
   ]
  },
  {
   "cell_type": "code",
   "execution_count": 67,
   "metadata": {},
   "outputs": [
    {
     "name": "stdout",
     "output_type": "stream",
     "text": [
      "error occurred with https://www.the-good-ai.com/post/similarities-in-dietary-restrictions-between-jews-and-muslims\n",
      "error occurred with https://www.the-good-ai.com/post/how-does-the-holy-trinity-in-christianity-diverge-from-the-jewish\n",
      "error occurred with https://www.the-good-ai.com/post/how-did-ancient-greek-philosophy-influence\n",
      "error occurred with https://www.the-good-ai.com/post/what-were-the-religious-views\n",
      "error occurred with https://www.the-good-ai.com/post/how-did-catholic-social-teaching-influence\n",
      "error occurred with https://www.the-good-ai.com/post/what-are-the-four-noble-truths-in-buddhism\n",
      "error occurred with https://www.the-good-ai.com/post/how-has-evangelical-christianity-impacted-american-politics\n",
      "error occurred with https://www.the-good-ai.com/post/how-did-the-enlightenment-alter\n",
      "error occurred with https://www.the-good-ai.com/post/how-do-muslims-celebrate-ramadan\n",
      "error occurred with https://www.the-good-ai.com/post/what-is the-difference-between-catholicism-and-eastern\n",
      "error occurred with https://www.the-good-ai.com/post/privacy-policy\n",
      "error occurred with https://www.the-good-ai.com/post/terms-of-service\n"
     ]
    }
   ],
   "source": [
    "#go to each link (essay) and extract relevant information\n",
    "for page in to_click:\n",
    "    \n",
    "    #pause the analysis for appx 15 sec\n",
    "    wait = random.normal(20, 4, 1)[0]\n",
    "    sleep(wait)\n",
    "\n",
    "    #visit the page\n",
    "    try: \n",
    "        browser.vist(page)\n",
    "\n",
    "        #save and parse the html for given essay\n",
    "        html = browser.html\n",
    "        html_soup = soup(html, 'html.parser') \n",
    "\n",
    "        #extract the title\n",
    "        title = html_soup.find('span', class_ = 'fancy highlighted').text\n",
    "\n",
    "        #create list w/ title\n",
    "        essay_text = []\n",
    "        essay_text.append(f'{title}\\n')\n",
    "\n",
    "        #extract the paragraphs and add t o list\n",
    "        paragraphs = html_soup.find_all('p')\n",
    "        for paragraph in paragraphs:\n",
    "            essay_text.append(f'{paragraph.text}')\n",
    "\n",
    "        #combine title\n",
    "        final_essay = ''.join(essay_text)\n",
    "        final_essay\n",
    "\n",
    "        #increase counter\n",
    "        total_counter = total_counter + 1\n",
    "\n",
    "        #save the full document as text\n",
    "        save_path = f'../rawData/aiEssays/TESTING{genre_count}-{llm}_{total_counter}.txt'\n",
    "        with open(save_path, 'w') as f:\n",
    "            f.write(final_essay)\n",
    "    except:\n",
    "        print(f'error occurred with {page}')"
   ]
  },
  {
   "cell_type": "code",
   "execution_count": 77,
   "metadata": {},
   "outputs": [
    {
     "name": "stdout",
     "output_type": "stream",
     "text": [
      "https://www.the-good-ai.com/post/similarities-in-dietary-restrictions-between-jews-and-muslims\n"
     ]
    }
   ],
   "source": [
    "page = 'https://www.the-good-ai.com/post/similarities-in-dietary-restrictions-between-jews-and-muslims'\n",
    "\n",
    "#go to each link (essay) and extract relevant information\n",
    "browser.visit(page)\n",
    "print(page)\n"
   ]
  },
  {
   "cell_type": "code",
   "execution_count": 81,
   "metadata": {},
   "outputs": [
    {
     "name": "stdout",
     "output_type": "stream",
     "text": [
      "['https://www.the-good-ai.com/post/similarities-in-dietary-restrictions-between-jews-and-muslims', 'https://www.the-good-ai.com/post/how-does-the-holy-trinity-in-christianity-diverge-from-the-jewish', 'https://www.the-good-ai.com/post/how-did-ancient-greek-philosophy-influence', 'https://www.the-good-ai.com/post/what-were-the-religious-views', 'https://www.the-good-ai.com/post/how-did-catholic-social-teaching-influence', 'https://www.the-good-ai.com/post/what-are-the-four-noble-truths-in-buddhism', 'https://www.the-good-ai.com/post/how-has-evangelical-christianity-impacted-american-politics', 'https://www.the-good-ai.com/post/how-did-the-enlightenment-alter', 'https://www.the-good-ai.com/post/how-do-muslims-celebrate-ramadan', 'https://www.the-good-ai.com/post/what-is the-difference-between-catholicism-and-eastern', 'https://www.the-good-ai.com/post/privacy-policy', 'https://www.the-good-ai.com/post/terms-of-service']\n"
     ]
    }
   ],
   "source": [
    "print(to_click)"
   ]
  },
  {
   "cell_type": "code",
   "execution_count": null,
   "metadata": {},
   "outputs": [],
   "source": [
    "browser = Browser('chrome')\n",
    "\n",
    "browser.visit('https://www.the-good-ai.com/post/similarities-in-dietary-restrictions-between-jews-and-muslims')\n",
    "\n",
    "#save and parse the html for given essay\n",
    "html = browser.html\n",
    "html_soup = soup(html, 'html.parser') \n",
    "\n",
    "#extract the title\n",
    "title = html_soup.find('span', class_ = 'fancy highlighted').text\n",
    "\n",
    "#create list w/ title\n",
    "essay_text = []\n",
    "essay_text.append(f'{title}\\n')\n",
    "\n",
    "#extract the paragraphs and add to list\n",
    "paragraphs = html_soup.find_all('p')\n",
    "for paragraph in paragraphs:\n",
    "    essay_text.append(f'{paragraph.text}')\n",
    "\n",
    "#combine title\n",
    "final_essay = ''.join(essay_text)\n",
    "print(final_essay)\n",
    "        \n",
    "browser.quit()"
   ]
  }
 ],
 "metadata": {
  "kernelspec": {
   "display_name": "base",
   "language": "python",
   "name": "python3"
  },
  "language_info": {
   "codemirror_mode": {
    "name": "ipython",
    "version": 3
   },
   "file_extension": ".py",
   "mimetype": "text/x-python",
   "name": "python",
   "nbconvert_exporter": "python",
   "pygments_lexer": "ipython3",
   "version": "3.9.13"
  },
  "orig_nbformat": 4
 },
 "nbformat": 4,
 "nbformat_minor": 2
}
