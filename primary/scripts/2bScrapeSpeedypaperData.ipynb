{
 "cells": [
  {
   "cell_type": "code",
   "execution_count": null,
   "id": "17088d38",
   "metadata": {},
   "outputs": [],
   "source": [
    "from splinter import Browser\n",
    "from bs4 import BeautifulSoup\n",
    "\n",
    "browser=Browser('chrome')"
   ]
  },
  {
   "cell_type": "code",
   "execution_count": null,
   "id": "c694830c",
   "metadata": {},
   "outputs": [],
   "source": [
    "# Visit the URL\n",
    "\n",
    "base_url = 'https://speedypaper.com/essays?rt=Lelm38WZ'\n",
    "browser.visit(base_url)\n",
    "\n",
    "# Parse the HTML\n",
    "html = browser.html\n",
    "soup = BeautifulSoup(html, 'html.parser')"
   ]
  },
  {
   "cell_type": "code",
   "execution_count": null,
   "id": "f0cc581b",
   "metadata": {},
   "outputs": [],
   "source": [
    "# Extract and store the links for each of the essay \n",
    "urls = []\n",
    "\n",
    "for link in soup.find_all(\"a\", class_='category-preview-template__link'):\n",
    "    links=link.get(\"href\")\n",
    "    urls.append(links)"
   ]
  },
  {
   "cell_type": "code",
   "execution_count": null,
   "id": "c80b4bd4",
   "metadata": {
    "scrolled": true
   },
   "outputs": [],
   "source": [
    "len(urls)"
   ]
  },
  {
   "cell_type": "code",
   "execution_count": null,
   "id": "6962efd6",
   "metadata": {},
   "outputs": [],
   "source": [
    "import numpy as np\n",
    "\n",
    "my_array = np.asarray(urls)"
   ]
  },
  {
   "cell_type": "code",
   "execution_count": null,
   "id": "84c144c5",
   "metadata": {
    "scrolled": true
   },
   "outputs": [],
   "source": [
    "urls_1 = []\n",
    "for i in range(len(my_array)):\n",
    "\n",
    "    combined_url = f\"{my_array[i]}\"\n",
    "    browser.visit(combined_url)\n",
    "    html = browser.html\n",
    "    soup = BeautifulSoup(html, 'html.parser')\n",
    "\n",
    "  \n",
    "    for link in soup.find_all(\"a\", class_='essays-list-by-category-item__main-info__wrapper'):\n",
    "        links=link.get(\"href\")\n",
    "        urls_1.append(links)\n",
    "\n"
   ]
  },
  {
   "cell_type": "code",
   "execution_count": null,
   "id": "69fe244b",
   "metadata": {
    "scrolled": false
   },
   "outputs": [],
   "source": [
    "len(urls_1)"
   ]
  },
  {
   "cell_type": "code",
   "execution_count": null,
   "id": "68d9cbfd",
   "metadata": {},
   "outputs": [],
   "source": [
    "len(my_array)"
   ]
  },
  {
   "cell_type": "code",
   "execution_count": null,
   "id": "0cc28b5d",
   "metadata": {
    "scrolled": false
   },
   "outputs": [],
   "source": [
    "import numpy as np\n",
    "\n",
    "new_url = np.asarray(urls_1)"
   ]
  },
  {
   "cell_type": "code",
   "execution_count": null,
   "id": "e8f42079",
   "metadata": {
    "scrolled": true
   },
   "outputs": [],
   "source": [
    "len(new_url)"
   ]
  },
  {
   "cell_type": "code",
   "execution_count": null,
   "id": "13a1b5d4",
   "metadata": {},
   "outputs": [],
   "source": [
    "\n",
    "# open file in write mode\n",
    "with open(r'new_url.txt', 'w') as fp:\n",
    "    for item in new_url:\n",
    "        # write each item on a new line\n",
    "        fp.write(\"%s\\n\" % item)\n",
    "    print('Done')"
   ]
  },
  {
   "cell_type": "code",
   "execution_count": null,
   "id": "db5278e6",
   "metadata": {},
   "outputs": [],
   "source": [
    "# empty list to read list from a file\n",
    "urls = []\n",
    "\n",
    "# open file and read the content in a list\n",
    "with open(r'new_url.txt', 'r') as fp:\n",
    "    for line in fp:\n",
    "        # remove linebreak from a current name\n",
    "        # linebreak is the last character of each line\n",
    "        x = line[:-1]\n",
    "\n",
    "        # add current item to the list\n",
    "        urls.append(x)\n",
    "\n",
    "# display list\n",
    "urls"
   ]
  },
  {
   "cell_type": "code",
   "execution_count": null,
   "id": "b769f8da",
   "metadata": {},
   "outputs": [],
   "source": [
    "import numpy as np\n",
    "\n",
    "new_url = np.asarray(urls)"
   ]
  },
  {
   "cell_type": "code",
   "execution_count": null,
   "id": "f8fc7970",
   "metadata": {},
   "outputs": [],
   "source": []
  },
  {
   "cell_type": "code",
   "execution_count": null,
   "id": "cd12f969",
   "metadata": {},
   "outputs": [],
   "source": [
    "from splinter import Browser\n",
    "from bs4 import BeautifulSoup\n",
    "\n",
    "browser=Browser('chrome')"
   ]
  },
  {
   "cell_type": "code",
   "execution_count": null,
   "id": "af0c9fa7",
   "metadata": {},
   "outputs": [],
   "source": [
    "# Parse the HTML\n",
    "html = browser.html\n",
    "soup = BeautifulSoup(html, 'html.parser')"
   ]
  },
  {
   "cell_type": "code",
   "execution_count": null,
   "id": "6c27ec1e",
   "metadata": {
    "scrolled": true
   },
   "outputs": [],
   "source": [
    "text_list = []\n",
    "import time\n",
    "for i in range(len(new_url)):\n",
    "    print(f\"working on page {i}\")\n",
    "    combined_url = f\"{new_url[i]}\"\n",
    "    browser.visit(combined_url)\n",
    "    time.sleep(4)\n",
    "    html = browser.html\n",
    "    quote_soup = soup(html, 'html.parser')\n",
    "    quotes = soup.find(\"div\", { \"class\" : \"single-essay__essay-content__inner\" })\n",
    "    print(\"---------QUOTES-------------\")\n",
    "#    for quote in quotes:\n",
    "#        essay.append(quote)\n",
    "#        print(quote.get_text())\n",
    "#    print(\"----------------------------\")\n",
    "    for p in quotes.find_all('p'):\n",
    "        text_list.append(p.get_text())\n",
    "    "
   ]
  },
  {
   "cell_type": "code",
   "execution_count": null,
   "id": "868c3c9a",
   "metadata": {},
   "outputs": [],
   "source": [
    "text_list"
   ]
  },
  {
   "cell_type": "code",
   "execution_count": null,
   "id": "09983261",
   "metadata": {},
   "outputs": [],
   "source": [
    "import pandas as pd\n",
    "df = pd.DataFrame(text_list)\n",
    "df.to_csv(\"text_list.csv\")"
   ]
  },
  {
   "cell_type": "code",
   "execution_count": null,
   "id": "22546552",
   "metadata": {},
   "outputs": [],
   "source": [
    "browser.quit()"
   ]
  },
  {
   "cell_type": "code",
   "execution_count": null,
   "id": "c4d79c2e",
   "metadata": {},
   "outputs": [],
   "source": []
  },
  {
   "cell_type": "code",
   "execution_count": null,
   "id": "4b539dd2",
   "metadata": {},
   "outputs": [],
   "source": []
  }
 ],
 "metadata": {
  "kernelspec": {
   "display_name": "Python 3 (ipykernel)",
   "language": "python",
   "name": "python3"
  },
  "language_info": {
   "codemirror_mode": {
    "name": "ipython",
    "version": 3
   },
   "file_extension": ".py",
   "mimetype": "text/x-python",
   "name": "python",
   "nbconvert_exporter": "python",
   "pygments_lexer": "ipython3",
   "version": "3.9.13"
  }
 },
 "nbformat": 4,
 "nbformat_minor": 5
}
